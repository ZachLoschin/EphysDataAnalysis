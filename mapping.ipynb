{
 "cells": [
  {
   "cell_type": "code",
   "execution_count": 2,
   "metadata": {},
   "outputs": [
    {
     "ename": "ModuleNotFoundError",
     "evalue": "No module named 'allensdk'",
     "output_type": "error",
     "traceback": [
      "\u001b[1;31m---------------------------------------------------------------------------\u001b[0m",
      "\u001b[1;31mModuleNotFoundError\u001b[0m                       Traceback (most recent call last)",
      "\u001b[1;32mc:\\Users\\zachl\\OneDrive\\BU_YEAR1\\Economo_Rotation\\Susu_Data_Analysis\\EphysDataAnalysis\\mapping.ipynb Cell 1\u001b[0m line \u001b[0;36m3\n\u001b[0;32m      <a href='vscode-notebook-cell:/c%3A/Users/zachl/OneDrive/BU_YEAR1/Economo_Rotation/Susu_Data_Analysis/EphysDataAnalysis/mapping.ipynb#W0sZmlsZQ%3D%3D?line=0'>1</a>\u001b[0m \u001b[39mfrom\u001b[39;00m \u001b[39mpathlib\u001b[39;00m \u001b[39mimport\u001b[39;00m Path\n\u001b[0;32m      <a href='vscode-notebook-cell:/c%3A/Users/zachl/OneDrive/BU_YEAR1/Economo_Rotation/Susu_Data_Analysis/EphysDataAnalysis/mapping.ipynb#W0sZmlsZQ%3D%3D?line=1'>2</a>\u001b[0m \u001b[39mimport\u001b[39;00m \u001b[39mos\u001b[39;00m\n\u001b[1;32m----> <a href='vscode-notebook-cell:/c%3A/Users/zachl/OneDrive/BU_YEAR1/Economo_Rotation/Susu_Data_Analysis/EphysDataAnalysis/mapping.ipynb#W0sZmlsZQ%3D%3D?line=2'>3</a>\u001b[0m \u001b[39mfrom\u001b[39;00m \u001b[39mallensdk\u001b[39;00m\u001b[39m.\u001b[39;00m\u001b[39mcore\u001b[39;00m\u001b[39m.\u001b[39;00m\u001b[39mreference_space_cache\u001b[39;00m \u001b[39mimport\u001b[39;00m ReferenceSpaceCache\n",
      "\u001b[1;31mModuleNotFoundError\u001b[0m: No module named 'allensdk'"
     ]
    }
   ],
   "source": [
    "from pathlib import Path\n",
    "import os\n",
    "from allensdk.core.reference_space_cache import ReferenceSpaceCache"
   ]
  }
 ],
 "metadata": {
  "kernelspec": {
   "display_name": "Python 3",
   "language": "python",
   "name": "python3"
  },
  "language_info": {
   "codemirror_mode": {
    "name": "ipython",
    "version": 3
   },
   "file_extension": ".py",
   "mimetype": "text/x-python",
   "name": "python",
   "nbconvert_exporter": "python",
   "pygments_lexer": "ipython3",
   "version": "3.11.5"
  },
  "orig_nbformat": 4
 },
 "nbformat": 4,
 "nbformat_minor": 2
}
