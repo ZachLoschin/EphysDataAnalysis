{
 "cells": [
  {
   "cell_type": "code",
   "execution_count": 1,
   "metadata": {},
   "outputs": [],
   "source": [
    "# Library Import\n",
    "import pandas as pd\n",
    "import zutils\n",
    "\n",
    "# Read in the Meta Data Table\n",
    "metaDF = pd.read_csv(\"allSessionsMetaData.csv\")"
   ]
  },
  {
   "cell_type": "code",
   "execution_count": 2,
   "metadata": {},
   "outputs": [],
   "source": [
    "# Storage for subs and dates\n",
    "\n",
    "reg = \"Midbrain\"\n",
    "x, y, z = zutils.find_sessions_by_region(metaDF, reg)"
   ]
  },
  {
   "cell_type": "code",
   "execution_count": 4,
   "metadata": {},
   "outputs": [
    {
     "name": "stdout",
     "output_type": "stream",
     "text": [
      "111\n",
      "174\n",
      "111\n"
     ]
    }
   ],
   "source": [
    "print(len(z))\n",
    "print(len(metaDF))\n",
    "print(len(x))"
   ]
  },
  {
   "cell_type": "code",
   "execution_count": null,
   "metadata": {},
   "outputs": [],
   "source": [
    "# ONLY LOOK AT SESSIONS THAT HAVE HIGH PERFORMANCE ACCURACY ON RIGHT AND LEFT TRIALS\n",
    "# PROBABLY IN SPREADSHEET\n"
   ]
  }
 ],
 "metadata": {
  "kernelspec": {
   "display_name": "Python 3",
   "language": "python",
   "name": "python3"
  },
  "language_info": {
   "codemirror_mode": {
    "name": "ipython",
    "version": 3
   },
   "file_extension": ".py",
   "mimetype": "text/x-python",
   "name": "python",
   "nbconvert_exporter": "python",
   "pygments_lexer": "ipython3",
   "version": "3.11.5"
  },
  "orig_nbformat": 4
 },
 "nbformat": 4,
 "nbformat_minor": 2
}
