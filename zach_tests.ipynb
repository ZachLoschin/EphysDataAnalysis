{
 "cells": [
  {
   "cell_type": "markdown",
   "metadata": {},
   "source": [
    "Zachary Loschinskey\n",
    "Dr. Economo Rotation\n",
    "Play around with ephys data"
   ]
  },
  {
   "cell_type": "code",
   "execution_count": 1,
   "metadata": {},
   "outputs": [],
   "source": [
    "\"\"\"\n",
    "Import Libraries\n",
    "\"\"\"\n",
    "import zutils\n",
    "from tqdm import tqdm\n",
    "from scipy import stats\n",
    "import pandas as pd\n",
    "from time import sleep\n",
    "import os\n",
    "from pynwb import NWBHDF5IO\n",
    "import numpy as np"
   ]
  },
  {
   "cell_type": "code",
   "execution_count": 2,
   "metadata": {},
   "outputs": [
    {
     "name": "stdout",
     "output_type": "stream",
     "text": [
      "Loading data for sub-484675:20210318 from \n",
      "Data directory: C:\\Users\\zachl\\OneDrive\\BU_YEAR1\\Economo_Rotation\\Ephys_Analysis\\data\\\n",
      "['sub-484675_ses-20210318T122039_behavior+ecephys+ogen.nwb']\n"
     ]
    }
   ],
   "source": [
    "\"\"\"\n",
    "Load the Data\n",
    "\"\"\"\n",
    "# Data Folder\n",
    "dataDir = 'C:\\\\Users\\\\zachl\\\\OneDrive\\\\BU_YEAR1\\\\Economo_Rotation\\\\Ephys_Analysis\\\\data\\\\'\n",
    "\n",
    "# File Parameters\n",
    "sub = '484675'\n",
    "date = '20210318'\n",
    "\n",
    "x = zutils.load_data(dataDir, sub, date)\n",
    "# # LOAD DATA\n",
    "# nwbfile = NWBHDF5IO(\"C:\\\\Users\\\\zachl\\\\OneDrive\\\\BU_YEAR1\\\\Economo_Rotation\\\\Ephys_Analysis\\\\data\\\\sub-484675\\\\sub-484675_ses-20210318T122039_behavior+ecephys+ogen.nwb\").read() # load nwb file\n",
    "\n"
   ]
  },
  {
   "cell_type": "code",
   "execution_count": 10,
   "metadata": {},
   "outputs": [
    {
     "data": {
      "text/plain": [
       "id\n",
       "0       [0.9448296795811126, 0.9545631816284814, 2.760...\n",
       "1       [0.41218711377663864, 3.072933233376045, 3.356...\n",
       "2       [0.22698390358766218, 0.24525088688203933, 0.2...\n",
       "3       [152.26354314261448, 158.7787197183418, 209.50...\n",
       "4       [0.027413777705480147, 0.19201663082160092, 0....\n",
       "                              ...                        \n",
       "1314    [0.24322415102103978, 0.2864586408769765, 0.31...\n",
       "1315    [3.4310760927271473, 3.468177085178695, 3.5028...\n",
       "1316    [0.20562314519413372, 3.3789746990148655, 3.39...\n",
       "1317    [10.257520066028432, 17.051353138096445, 55.74...\n",
       "1318    [4.052259376046643, 4.179229439162498, 4.25713...\n",
       "Name: spike_times, Length: 1319, dtype: object"
      ]
     },
     "execution_count": 10,
     "metadata": {},
     "output_type": "execute_result"
    }
   ],
   "source": [
    "nwbfile.units.to_dataframe()[\"spike_times\"]"
   ]
  },
  {
   "cell_type": "code",
   "execution_count": null,
   "metadata": {},
   "outputs": [],
   "source": [
    "# how to check accuracy of electrode placement -- ask mike\n",
    "# find region with colliculus in midbrain\n",
    "# See that the neuropixel is looking at different regions across its length\n",
    "# In general top of midbrain neuropixel probes are looking at superior colliculus\n",
    "# Yujin found in mrn there is anticorrelation with licking movment\n",
    "\n",
    "# Create table of trials that use the midbrain and try to discern which portion of neuropixels we will use for the mrn\n",
    "# Jaw and Tongue\n",
    "# rastaplot"
   ]
  },
  {
   "cell_type": "code",
   "execution_count": null,
   "metadata": {},
   "outputs": [],
   "source": []
  }
 ],
 "metadata": {
  "kernelspec": {
   "display_name": "Python 3",
   "language": "python",
   "name": "python3"
  },
  "language_info": {
   "codemirror_mode": {
    "name": "ipython",
    "version": 3
   },
   "file_extension": ".py",
   "mimetype": "text/x-python",
   "name": "python",
   "nbconvert_exporter": "python",
   "pygments_lexer": "ipython3",
   "version": "3.11.5"
  },
  "orig_nbformat": 4
 },
 "nbformat": 4,
 "nbformat_minor": 2
}
